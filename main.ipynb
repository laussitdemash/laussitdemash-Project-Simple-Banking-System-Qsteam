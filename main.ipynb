{
 "cells": [
  {
   "cell_type": "code",
   "execution_count": 4,
   "id": "d10bd7f0-89f7-4c89-ad6f-d0fe7d9ab6c4",
   "metadata": {},
   "outputs": [
    {
     "name": "stdout",
     "output_type": "stream",
     "text": [
      "Welcome to International Bank!\n",
      "Choose an option:\n",
      "    1. Create a new account\n",
      "    2. Deposit funds\n",
      "    3. Withdraw funds\n",
      "    4. Check balance\n",
      "    5. Exit\n",
      "    \n"
     ]
    },
    {
     "name": "stdin",
     "output_type": "stream",
     "text": [
      "Enter the option number (1-5):  1\n"
     ]
    },
    {
     "name": "stdout",
     "output_type": "stream",
     "text": [
      "To create an account, please fill in the information below.\n"
     ]
    },
    {
     "name": "stdin",
     "output_type": "stream",
     "text": [
      "Name:  A\n",
      "Initial deposit amount:  10\n"
     ]
    },
    {
     "name": "stdout",
     "output_type": "stream",
     "text": [
      "Account created successfully! Your account number is:  66971\n",
      "Choose an option:\n",
      "    1. Create a new account\n",
      "    2. Deposit funds\n",
      "    3. Withdraw funds\n",
      "    4. Check balance\n",
      "    5. Exit\n",
      "    \n"
     ]
    },
    {
     "name": "stdin",
     "output_type": "stream",
     "text": [
      "Enter the option number (1-5):  4\n"
     ]
    },
    {
     "name": "stdout",
     "output_type": "stream",
     "text": [
      "To check balance, please enter your credentials.\n"
     ]
    },
    {
     "name": "stdin",
     "output_type": "stream",
     "text": [
      "Name:  A\n",
      "Account number:  66971\n"
     ]
    },
    {
     "name": "stdout",
     "output_type": "stream",
     "text": [
      "\n",
      "Authentication successful!\n",
      "\n",
      "Your current account balance is: 10 \n",
      "Choose an option:\n",
      "    1. Create a new account\n",
      "    2. Deposit funds\n",
      "    3. Withdraw funds\n",
      "    4. Check balance\n",
      "    5. Exit\n",
      "    \n"
     ]
    },
    {
     "name": "stdin",
     "output_type": "stream",
     "text": [
      "Enter the option number (1-5):  3\n"
     ]
    },
    {
     "name": "stdout",
     "output_type": "stream",
     "text": [
      "To withdraw funds, please enter your credentials.\n"
     ]
    },
    {
     "name": "stdin",
     "output_type": "stream",
     "text": [
      "Name:  A\n",
      "Account number:  66971\n"
     ]
    },
    {
     "name": "stdout",
     "output_type": "stream",
     "text": [
      "\n",
      "Authentication successful!\n"
     ]
    },
    {
     "name": "stdin",
     "output_type": "stream",
     "text": [
      "Enter the withdrawal amount:  10\n"
     ]
    },
    {
     "name": "stdout",
     "output_type": "stream",
     "text": [
      "\n",
      "The sum of 10 has been withdrawn from your account balance.\n",
      "\n",
      "Your current account balance is: 0 \n",
      "Choose an option:\n",
      "    1. Create a new account\n",
      "    2. Deposit funds\n",
      "    3. Withdraw funds\n",
      "    4. Check balance\n",
      "    5. Exit\n",
      "    \n"
     ]
    },
    {
     "name": "stdin",
     "output_type": "stream",
     "text": [
      "Enter the option number (1-5):  2\n"
     ]
    },
    {
     "name": "stdout",
     "output_type": "stream",
     "text": [
      "To deposit funds, please enter your credentials.\n"
     ]
    },
    {
     "name": "stdin",
     "output_type": "stream",
     "text": [
      "Name:  A\n",
      "Account number:  66971\n"
     ]
    },
    {
     "name": "stdout",
     "output_type": "stream",
     "text": [
      "\n",
      "Authentication successful!\n"
     ]
    },
    {
     "name": "stdin",
     "output_type": "stream",
     "text": [
      "Enter the deposit amount:  100\n"
     ]
    },
    {
     "name": "stdout",
     "output_type": "stream",
     "text": [
      "\n",
      "The sum of 100 has been added to your account balance.\n",
      "\n",
      "Your current account balance is: 100 \n",
      "Choose an option:\n",
      "    1. Create a new account\n",
      "    2. Deposit funds\n",
      "    3. Withdraw funds\n",
      "    4. Check balance\n",
      "    5. Exit\n",
      "    \n"
     ]
    },
    {
     "name": "stdin",
     "output_type": "stream",
     "text": [
      "Enter the option number (1-5):  4\n"
     ]
    },
    {
     "name": "stdout",
     "output_type": "stream",
     "text": [
      "To check balance, please enter your credentials.\n"
     ]
    },
    {
     "name": "stdin",
     "output_type": "stream",
     "text": [
      "Name:  A\n",
      "Account number:  66971\n"
     ]
    },
    {
     "name": "stdout",
     "output_type": "stream",
     "text": [
      "\n",
      "Authentication successful!\n",
      "\n",
      "Your current account balance is: 100 \n",
      "Choose an option:\n",
      "    1. Create a new account\n",
      "    2. Deposit funds\n",
      "    3. Withdraw funds\n",
      "    4. Check balance\n",
      "    5. Exit\n",
      "    \n"
     ]
    },
    {
     "name": "stdin",
     "output_type": "stream",
     "text": [
      "Enter the option number (1-5):  5\n"
     ]
    },
    {
     "name": "stdout",
     "output_type": "stream",
     "text": [
      "Goodbye!\n"
     ]
    }
   ],
   "source": [
    "from client import Client\n",
    "from bank import Bank\n",
    "\n",
    "\n",
    "from client import Client\n",
    "from bank import Bank\n",
    "\n",
    "def display_menu():\n",
    "    print(\"\"\"Choose an option:\n",
    "    1. Create a new account\n",
    "    2. Deposit funds\n",
    "    3. Withdraw funds\n",
    "    4. Check balance\n",
    "    5. Exit\n",
    "    \"\"\")\n",
    "\n",
    "# Creating instances of Bank and Client\n",
    "bank = Bank()\n",
    "\n",
    "print(\"Welcome to {}!\".format(bank.name))\n",
    "\n",
    "running = True\n",
    "while running:\n",
    "    display_menu()\n",
    "    \n",
    "    choice = input(\"Enter the option number (1-5): \")\n",
    "\n",
    "    if choice == '1':\n",
    "        print(\"To create an account, please fill in the information below.\")\n",
    "        client_name = input(\"Name: \")\n",
    "        initial_deposit = int(input(\"Initial deposit amount: \"))\n",
    "        new_client = Client(client_name, initial_deposit)\n",
    "        bank.update_db(new_client)\n",
    "        print(\"Account created successfully! Your account number is: \", new_client.account['account_number'])\n",
    "\n",
    "    elif choice == '2':\n",
    "        print(\"To deposit funds, please enter your credentials.\")\n",
    "        name = input(\"Name: \")\n",
    "        account_number = int(input(\"Account number: \"))\n",
    "        current_client = bank.authentication(name, account_number)\n",
    "        \n",
    "        if current_client:\n",
    "            deposit_amount = int(input(\"Enter the deposit amount: \"))\n",
    "            current_client.deposit(deposit_amount)\n",
    "        else:\n",
    "            print(\"Authentication failed! Reason: account not found.\")\n",
    "\n",
    "    elif choice == '3':\n",
    "        print(\"To withdraw funds, please enter your credentials.\")\n",
    "        name = input(\"Name: \")\n",
    "        account_number = int(input(\"Account number: \"))\n",
    "        current_client = bank.authentication(name, account_number)\n",
    "        \n",
    "        if current_client:\n",
    "            withdraw_amount = int(input(\"Enter the withdrawal amount: \"))\n",
    "            current_client.withdraw(withdraw_amount)\n",
    "        else:\n",
    "            print(\"Authentication failed! Reason: account not found.\")\n",
    "\n",
    "    elif choice == '4':\n",
    "        print(\"To check balance, please enter your credentials.\")\n",
    "        name = input(\"Name: \")\n",
    "        account_number = int(input(\"Account number: \"))\n",
    "        current_client = bank.authentication(name, account_number)\n",
    "        \n",
    "        if current_client:\n",
    "            current_client.balance()\n",
    "        else:\n",
    "            print(\"Authentication failed! Reason: account not found.\")\n",
    "\n",
    "    elif choice == '5':\n",
    "        print(\"Goodbye!\")\n",
    "        running = False\n",
    "\n",
    "    else:\n",
    "        print(\"Invalid choice. Please enter a number between 1 and 5.\")\n"
   ]
  },
  {
   "cell_type": "code",
   "execution_count": null,
   "id": "8ae8ecbd-94d7-4bb1-9305-eab860dfb14a",
   "metadata": {},
   "outputs": [],
   "source": []
  }
 ],
 "metadata": {
  "kernelspec": {
   "display_name": "Python 3 (ipykernel)",
   "language": "python",
   "name": "python3"
  },
  "language_info": {
   "codemirror_mode": {
    "name": "ipython",
    "version": 3
   },
   "file_extension": ".py",
   "mimetype": "text/x-python",
   "name": "python",
   "nbconvert_exporter": "python",
   "pygments_lexer": "ipython3",
   "version": "3.11.5"
  }
 },
 "nbformat": 4,
 "nbformat_minor": 5
}
