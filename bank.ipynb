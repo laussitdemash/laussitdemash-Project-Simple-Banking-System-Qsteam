{
 "cells": [
  {
   "cell_type": "code",
   "execution_count": 8,
   "id": "7cac9186-0ca3-4f96-9f74-7c9498b25e4e",
   "metadata": {},
   "outputs": [
    {
     "name": "stdout",
     "output_type": "stream",
     "text": [
      "Writing bank.py\n"
     ]
    }
   ],
   "source": [
    "%%writefile bank.py\n",
    "class Bank:\n",
    "\n",
    "    name = 'International Bank'\n",
    "    clients = []\n",
    "\n",
    "    def update_db(self, client):\n",
    "        self.clients.append(client)\n",
    "\n",
    "    def authentication(self, name, account_number):\n",
    "        for i in range(len(self.clients)):\n",
    "            if name in self.clients[i].account.values() and account_number in self.clients[i].account.values():\n",
    "                print()\n",
    "                print(\"Authentication successful!\")\n",
    "                return self.clients[i]"
   ]
  },
  {
   "cell_type": "code",
   "execution_count": 9,
   "id": "0b88a015-18bb-4f2e-9895-d8c928c4ab70",
   "metadata": {},
   "outputs": [
    {
     "name": "stdout",
     "output_type": "stream",
     "text": [
      "Writing client.py\n"
     ]
    }
   ],
   "source": [
    "%%writefile client.py\n",
    "from random import randint\n",
    "\n",
    "\n",
    "class Client:\n",
    "\n",
    "    # {account_number: xxxxx, name: \"xxxxxx\", holdings: xxxx}\n",
    "    account = {}\n",
    "\n",
    "    def __init__(self, name, deposit):\n",
    "        self.account['account_number'] = randint(10000, 99999)\n",
    "        self.account['name'] = name\n",
    "        self.account['holdings'] = deposit\n",
    "\n",
    "    def withdraw(self, amount):\n",
    "        if self.account['holdings'] >= amount:\n",
    "            self.account['holdings'] -= amount\n",
    "            print()\n",
    "            print(\"The sum of {} has been withdrawn from your account balance.\".format(amount))\n",
    "            self.balance()\n",
    "        else:\n",
    "            print()\n",
    "            print(\"Not enough funds!\")\n",
    "            self.balance()\n",
    "\n",
    "    def deposit(self, amount):\n",
    "        self.account['holdings'] += amount\n",
    "        print()\n",
    "        print(\"The sum of {} has been added to your account balance.\".format(amount))\n",
    "        self.balance()\n",
    "\n",
    "    def balance(self):\n",
    "        print()\n",
    "        print(\"Your current account balance is: {} \".format(self.account['holdings']))"
   ]
  },
  {
   "cell_type": "code",
   "execution_count": null,
   "id": "f49123ef-7f7d-4493-8330-c27b3fb7bbb5",
   "metadata": {},
   "outputs": [],
   "source": []
  }
 ],
 "metadata": {
  "kernelspec": {
   "display_name": "Python 3 (ipykernel)",
   "language": "python",
   "name": "python3"
  },
  "language_info": {
   "codemirror_mode": {
    "name": "ipython",
    "version": 3
   },
   "file_extension": ".py",
   "mimetype": "text/x-python",
   "name": "python",
   "nbconvert_exporter": "python",
   "pygments_lexer": "ipython3",
   "version": "3.11.5"
  }
 },
 "nbformat": 4,
 "nbformat_minor": 5
}
